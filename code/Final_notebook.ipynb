{
  "nbformat": 4,
  "nbformat_minor": 0,
  "metadata": {
    "colab": {
      "name": "Final_notebook.ipynb",
      "provenance": [],
      "collapsed_sections": [
        "Nj5GhTFHZnnZ"
      ],
      "authorship_tag": "ABX9TyOrx9NL6t6kKABf42wICJI0",
      "include_colab_link": true
    },
    "kernelspec": {
      "name": "python3",
      "display_name": "Python 3"
    },
    "language_info": {
      "name": "python"
    },
    "accelerator": "GPU"
  },
  "cells": [
    {
      "cell_type": "markdown",
      "metadata": {
        "id": "view-in-github",
        "colab_type": "text"
      },
      "source": [
        "<a href=\"https://colab.research.google.com/github/stdrr/ADM-HW1/blob/main/code/Final_notebook.ipynb\" target=\"_parent\"><img src=\"https://colab.research.google.com/assets/colab-badge.svg\" alt=\"Open In Colab\"/></a>"
      ]
    },
    {
      "cell_type": "markdown",
      "source": [
        "# **Final Notebook of the AML Final Project**\n",
        "*Customized UltraFastLaneDetection model through the backbone RedNetInvolution*\n",
        "\n",
        "[Link to UltraFastLaneDetection repository](https://github.com/cfzd/Ultra-Fast-Lane-Detection.git)\n",
        "\n",
        "[Link to RedNetInvolution repository](https://github.com/d-li14/involution.git)"
      ],
      "metadata": {
        "id": "-dPhL_R5cb4O"
      }
    },
    {
      "cell_type": "markdown",
      "source": [
        "Mount the Google Drive"
      ],
      "metadata": {
        "id": "44EAQtLGdPg2"
      }
    },
    {
      "cell_type": "code",
      "source": [
        "from google.colab import drive\n",
        "drive._mount('/content/drive')"
      ],
      "metadata": {
        "colab": {
          "base_uri": "https://localhost:8080/"
        },
        "id": "a__Q5JpuHAhG",
        "outputId": "1173f2b9-9f9f-4b38-9608-4a6e6995519c"
      },
      "execution_count": 1,
      "outputs": [
        {
          "output_type": "stream",
          "name": "stdout",
          "text": [
            "Mounted at /content/drive\n"
          ]
        }
      ]
    },
    {
      "cell_type": "code",
      "source": [
        "import os\n",
        "\n",
        "path_to_final_project = '/content/drive/MyDrive/University/Second_year/AML/AML-Final_Project'\n",
        "os.environ['FINAL_PROJECT'] = path_to_final_project"
      ],
      "metadata": {
        "id": "0RngrTSRdrQC"
      },
      "execution_count": 2,
      "outputs": []
    },
    {
      "cell_type": "markdown",
      "source": [
        "Get the customized code from our repository"
      ],
      "metadata": {
        "id": "JEEOWZh9eoAT"
      }
    },
    {
      "cell_type": "code",
      "source": [
        "!git clone https://github.com/stdrr/AML-Final_Project.git"
      ],
      "metadata": {
        "colab": {
          "base_uri": "https://localhost:8080/"
        },
        "id": "d2c7ivXfHBsy",
        "outputId": "d2e8de57-b2c4-4999-93f2-c87bab6c2bab"
      },
      "execution_count": 3,
      "outputs": [
        {
          "output_type": "stream",
          "name": "stdout",
          "text": [
            "Cloning into 'AML-Final_Project'...\n",
            "remote: Enumerating objects: 1724, done.\u001b[K\n",
            "remote: Counting objects: 100% (1724/1724), done.\u001b[K\n",
            "remote: Compressing objects: 100% (1145/1145), done.\u001b[K\n",
            "remote: Total 1724 (delta 610), reused 1651 (delta 544), pack-reused 0\u001b[K\n",
            "Receiving objects: 100% (1724/1724), 9.92 MiB | 23.68 MiB/s, done.\n",
            "Resolving deltas: 100% (610/610), done.\n"
          ]
        }
      ]
    },
    {
      "cell_type": "markdown",
      "source": [
        "Setup the environment: change working directory and install the required packages"
      ],
      "metadata": {
        "id": "jL8x3pEkeuQx"
      }
    },
    {
      "cell_type": "code",
      "source": [
        "%cd AML-Final_Project/code"
      ],
      "metadata": {
        "colab": {
          "base_uri": "https://localhost:8080/"
        },
        "id": "7bxiO75oHTbR",
        "outputId": "1025a8ad-627a-4023-8d7c-d3210a341418"
      },
      "execution_count": 4,
      "outputs": [
        {
          "output_type": "stream",
          "name": "stdout",
          "text": [
            "/content/AML-Final_Project/code\n"
          ]
        }
      ]
    },
    {
      "cell_type": "code",
      "source": [
        "!pip install -r requirements.txt"
      ],
      "metadata": {
        "colab": {
          "base_uri": "https://localhost:8080/"
        },
        "id": "mPtbGmQ-IwsP",
        "outputId": "ec2f09f5-29ef-4d13-df97-d5bd7b5b1a00"
      },
      "execution_count": 5,
      "outputs": [
        {
          "output_type": "stream",
          "name": "stdout",
          "text": [
            "Collecting mmcv\n",
            "  Downloading mmcv-1.4.0.tar.gz (403 kB)\n",
            "\u001b[?25l\r\u001b[K     |▉                               | 10 kB 19.0 MB/s eta 0:00:01\r\u001b[K     |█▋                              | 20 kB 21.0 MB/s eta 0:00:01\r\u001b[K     |██▍                             | 30 kB 15.3 MB/s eta 0:00:01\r\u001b[K     |███▎                            | 40 kB 14.5 MB/s eta 0:00:01\r\u001b[K     |████                            | 51 kB 5.5 MB/s eta 0:00:01\r\u001b[K     |████▉                           | 61 kB 5.9 MB/s eta 0:00:01\r\u001b[K     |█████▊                          | 71 kB 5.4 MB/s eta 0:00:01\r\u001b[K     |██████▌                         | 81 kB 6.0 MB/s eta 0:00:01\r\u001b[K     |███████▎                        | 92 kB 5.9 MB/s eta 0:00:01\r\u001b[K     |████████▏                       | 102 kB 5.3 MB/s eta 0:00:01\r\u001b[K     |█████████                       | 112 kB 5.3 MB/s eta 0:00:01\r\u001b[K     |█████████▊                      | 122 kB 5.3 MB/s eta 0:00:01\r\u001b[K     |██████████▌                     | 133 kB 5.3 MB/s eta 0:00:01\r\u001b[K     |███████████▍                    | 143 kB 5.3 MB/s eta 0:00:01\r\u001b[K     |████████████▏                   | 153 kB 5.3 MB/s eta 0:00:01\r\u001b[K     |█████████████                   | 163 kB 5.3 MB/s eta 0:00:01\r\u001b[K     |█████████████▉                  | 174 kB 5.3 MB/s eta 0:00:01\r\u001b[K     |██████████████▋                 | 184 kB 5.3 MB/s eta 0:00:01\r\u001b[K     |███████████████▍                | 194 kB 5.3 MB/s eta 0:00:01\r\u001b[K     |████████████████▎               | 204 kB 5.3 MB/s eta 0:00:01\r\u001b[K     |█████████████████               | 215 kB 5.3 MB/s eta 0:00:01\r\u001b[K     |█████████████████▉              | 225 kB 5.3 MB/s eta 0:00:01\r\u001b[K     |██████████████████▋             | 235 kB 5.3 MB/s eta 0:00:01\r\u001b[K     |███████████████████▌            | 245 kB 5.3 MB/s eta 0:00:01\r\u001b[K     |████████████████████▎           | 256 kB 5.3 MB/s eta 0:00:01\r\u001b[K     |█████████████████████           | 266 kB 5.3 MB/s eta 0:00:01\r\u001b[K     |██████████████████████          | 276 kB 5.3 MB/s eta 0:00:01\r\u001b[K     |██████████████████████▊         | 286 kB 5.3 MB/s eta 0:00:01\r\u001b[K     |███████████████████████▌        | 296 kB 5.3 MB/s eta 0:00:01\r\u001b[K     |████████████████████████▍       | 307 kB 5.3 MB/s eta 0:00:01\r\u001b[K     |█████████████████████████▏      | 317 kB 5.3 MB/s eta 0:00:01\r\u001b[K     |██████████████████████████      | 327 kB 5.3 MB/s eta 0:00:01\r\u001b[K     |██████████████████████████▊     | 337 kB 5.3 MB/s eta 0:00:01\r\u001b[K     |███████████████████████████▋    | 348 kB 5.3 MB/s eta 0:00:01\r\u001b[K     |████████████████████████████▍   | 358 kB 5.3 MB/s eta 0:00:01\r\u001b[K     |█████████████████████████████▏  | 368 kB 5.3 MB/s eta 0:00:01\r\u001b[K     |██████████████████████████████  | 378 kB 5.3 MB/s eta 0:00:01\r\u001b[K     |██████████████████████████████▉ | 389 kB 5.3 MB/s eta 0:00:01\r\u001b[K     |███████████████████████████████▋| 399 kB 5.3 MB/s eta 0:00:01\r\u001b[K     |████████████████████████████████| 403 kB 5.3 MB/s \n",
            "\u001b[?25hRequirement already satisfied: opencv-python in /usr/local/lib/python3.7/dist-packages (from -r ./UltraFastLaneDetection/requirements.txt (line 1)) (4.1.2.30)\n",
            "Requirement already satisfied: tqdm in /usr/local/lib/python3.7/dist-packages (from -r ./UltraFastLaneDetection/requirements.txt (line 2)) (4.62.3)\n",
            "Requirement already satisfied: tensorboard in /usr/local/lib/python3.7/dist-packages (from -r ./UltraFastLaneDetection/requirements.txt (line 3)) (2.7.0)\n",
            "Collecting addict\n",
            "  Downloading addict-2.4.0-py3-none-any.whl (3.8 kB)\n",
            "Requirement already satisfied: sklearn in /usr/local/lib/python3.7/dist-packages (from -r ./UltraFastLaneDetection/requirements.txt (line 5)) (0.0)\n",
            "Collecting pathspec\n",
            "  Downloading pathspec-0.9.0-py2.py3-none-any.whl (31 kB)\n",
            "Collecting albumentations>=0.3.2\n",
            "  Downloading albumentations-1.1.0.tar.gz (178 kB)\n",
            "\u001b[K     |████████████████████████████████| 178 kB 40.7 MB/s \n",
            "\u001b[?25hRequirement already satisfied: requests in /usr/local/lib/python3.7/dist-packages (from -r ./mmclassification/requirements/optional.txt (line 2)) (2.23.0)\n",
            "Requirement already satisfied: matplotlib in /usr/local/lib/python3.7/dist-packages (from -r ./mmclassification/requirements/runtime.txt (line 1)) (3.2.2)\n",
            "Requirement already satisfied: numpy in /usr/local/lib/python3.7/dist-packages (from -r ./mmclassification/requirements/runtime.txt (line 2)) (1.19.5)\n",
            "Requirement already satisfied: packaging in /usr/local/lib/python3.7/dist-packages (from -r ./mmclassification/requirements/runtime.txt (line 3)) (21.3)\n",
            "Collecting codecov\n",
            "  Downloading codecov-2.1.12-py2.py3-none-any.whl (16 kB)\n",
            "Collecting flake8\n",
            "  Downloading flake8-4.0.1-py2.py3-none-any.whl (64 kB)\n",
            "\u001b[K     |████████████████████████████████| 64 kB 2.6 MB/s \n",
            "\u001b[?25hCollecting interrogate\n",
            "  Downloading interrogate-1.5.0-py3-none-any.whl (45 kB)\n",
            "\u001b[K     |████████████████████████████████| 45 kB 3.2 MB/s \n",
            "\u001b[?25hCollecting isort==4.3.21\n",
            "  Downloading isort-4.3.21-py2.py3-none-any.whl (42 kB)\n",
            "\u001b[K     |████████████████████████████████| 42 kB 949 kB/s \n",
            "\u001b[?25hCollecting mmdet\n",
            "  Downloading mmdet-2.19.0-py3-none-any.whl (1.2 MB)\n",
            "\u001b[K     |████████████████████████████████| 1.2 MB 38.7 MB/s \n",
            "\u001b[?25hRequirement already satisfied: pytest in /usr/local/lib/python3.7/dist-packages (from -r ./mmclassification/requirements/tests.txt (line 6)) (3.6.4)\n",
            "Collecting xdoctest>=0.10.0\n",
            "  Downloading xdoctest-0.15.10-py3-none-any.whl (116 kB)\n",
            "\u001b[K     |████████████████████████████████| 116 kB 44.8 MB/s \n",
            "\u001b[?25hCollecting yapf\n",
            "  Downloading yapf-0.31.0-py2.py3-none-any.whl (185 kB)\n",
            "\u001b[K     |████████████████████████████████| 185 kB 41.3 MB/s \n",
            "\u001b[?25hRequirement already satisfied: scipy in /usr/local/lib/python3.7/dist-packages (from albumentations>=0.3.2->-r ./mmclassification/requirements/optional.txt (line 1)) (1.4.1)\n",
            "Requirement already satisfied: scikit-image>=0.16.1 in /usr/local/lib/python3.7/dist-packages (from albumentations>=0.3.2->-r ./mmclassification/requirements/optional.txt (line 1)) (0.18.3)\n",
            "Requirement already satisfied: PyYAML in /usr/local/lib/python3.7/dist-packages (from albumentations>=0.3.2->-r ./mmclassification/requirements/optional.txt (line 1)) (3.13)\n",
            "Collecting qudida>=0.0.4\n",
            "  Downloading qudida-0.0.4-py3-none-any.whl (3.5 kB)\n",
            "Requirement already satisfied: six in /usr/local/lib/python3.7/dist-packages (from xdoctest>=0.10.0->-r ./mmclassification/requirements/tests.txt (line 7)) (1.15.0)\n",
            "Requirement already satisfied: scikit-learn>=0.19.1 in /usr/local/lib/python3.7/dist-packages (from qudida>=0.0.4->albumentations>=0.3.2->-r ./mmclassification/requirements/optional.txt (line 1)) (1.0.1)\n",
            "Collecting opencv-python-headless>=4.0.1\n",
            "  Downloading opencv_python_headless-4.5.4.60-cp37-cp37m-manylinux_2_17_x86_64.manylinux2014_x86_64.whl (47.6 MB)\n",
            "\u001b[K     |████████████████████████████████| 47.6 MB 109 kB/s \n",
            "\u001b[?25hRequirement already satisfied: typing-extensions in /usr/local/lib/python3.7/dist-packages (from qudida>=0.0.4->albumentations>=0.3.2->-r ./mmclassification/requirements/optional.txt (line 1)) (3.10.0.2)\n",
            "Requirement already satisfied: PyWavelets>=1.1.1 in /usr/local/lib/python3.7/dist-packages (from scikit-image>=0.16.1->albumentations>=0.3.2->-r ./mmclassification/requirements/optional.txt (line 1)) (1.2.0)\n",
            "Requirement already satisfied: networkx>=2.0 in /usr/local/lib/python3.7/dist-packages (from scikit-image>=0.16.1->albumentations>=0.3.2->-r ./mmclassification/requirements/optional.txt (line 1)) (2.6.3)\n",
            "Requirement already satisfied: imageio>=2.3.0 in /usr/local/lib/python3.7/dist-packages (from scikit-image>=0.16.1->albumentations>=0.3.2->-r ./mmclassification/requirements/optional.txt (line 1)) (2.4.1)\n",
            "Requirement already satisfied: tifffile>=2019.7.26 in /usr/local/lib/python3.7/dist-packages (from scikit-image>=0.16.1->albumentations>=0.3.2->-r ./mmclassification/requirements/optional.txt (line 1)) (2021.11.2)\n",
            "Requirement already satisfied: pillow!=7.1.0,!=7.1.1,>=4.3.0 in /usr/local/lib/python3.7/dist-packages (from scikit-image>=0.16.1->albumentations>=0.3.2->-r ./mmclassification/requirements/optional.txt (line 1)) (7.1.2)\n",
            "Requirement already satisfied: cycler>=0.10 in /usr/local/lib/python3.7/dist-packages (from matplotlib->-r ./mmclassification/requirements/runtime.txt (line 1)) (0.11.0)\n",
            "Requirement already satisfied: python-dateutil>=2.1 in /usr/local/lib/python3.7/dist-packages (from matplotlib->-r ./mmclassification/requirements/runtime.txt (line 1)) (2.8.2)\n",
            "Requirement already satisfied: kiwisolver>=1.0.1 in /usr/local/lib/python3.7/dist-packages (from matplotlib->-r ./mmclassification/requirements/runtime.txt (line 1)) (1.3.2)\n",
            "Requirement already satisfied: pyparsing!=2.0.4,!=2.1.2,!=2.1.6,>=2.0.1 in /usr/local/lib/python3.7/dist-packages (from matplotlib->-r ./mmclassification/requirements/runtime.txt (line 1)) (3.0.6)\n",
            "Requirement already satisfied: threadpoolctl>=2.0.0 in /usr/local/lib/python3.7/dist-packages (from scikit-learn>=0.19.1->qudida>=0.0.4->albumentations>=0.3.2->-r ./mmclassification/requirements/optional.txt (line 1)) (3.0.0)\n",
            "Requirement already satisfied: joblib>=0.11 in /usr/local/lib/python3.7/dist-packages (from scikit-learn>=0.19.1->qudida>=0.0.4->albumentations>=0.3.2->-r ./mmclassification/requirements/optional.txt (line 1)) (1.1.0)\n",
            "Requirement already satisfied: protobuf>=3.6.0 in /usr/local/lib/python3.7/dist-packages (from tensorboard->-r ./UltraFastLaneDetection/requirements.txt (line 3)) (3.17.3)\n",
            "Requirement already satisfied: tensorboard-data-server<0.7.0,>=0.6.0 in /usr/local/lib/python3.7/dist-packages (from tensorboard->-r ./UltraFastLaneDetection/requirements.txt (line 3)) (0.6.1)\n",
            "Requirement already satisfied: markdown>=2.6.8 in /usr/local/lib/python3.7/dist-packages (from tensorboard->-r ./UltraFastLaneDetection/requirements.txt (line 3)) (3.3.6)\n",
            "Requirement already satisfied: google-auth<3,>=1.6.3 in /usr/local/lib/python3.7/dist-packages (from tensorboard->-r ./UltraFastLaneDetection/requirements.txt (line 3)) (1.35.0)\n",
            "Requirement already satisfied: tensorboard-plugin-wit>=1.6.0 in /usr/local/lib/python3.7/dist-packages (from tensorboard->-r ./UltraFastLaneDetection/requirements.txt (line 3)) (1.8.0)\n",
            "Requirement already satisfied: werkzeug>=0.11.15 in /usr/local/lib/python3.7/dist-packages (from tensorboard->-r ./UltraFastLaneDetection/requirements.txt (line 3)) (1.0.1)\n",
            "Requirement already satisfied: wheel>=0.26 in /usr/local/lib/python3.7/dist-packages (from tensorboard->-r ./UltraFastLaneDetection/requirements.txt (line 3)) (0.37.0)\n",
            "Requirement already satisfied: google-auth-oauthlib<0.5,>=0.4.1 in /usr/local/lib/python3.7/dist-packages (from tensorboard->-r ./UltraFastLaneDetection/requirements.txt (line 3)) (0.4.6)\n",
            "Requirement already satisfied: absl-py>=0.4 in /usr/local/lib/python3.7/dist-packages (from tensorboard->-r ./UltraFastLaneDetection/requirements.txt (line 3)) (0.12.0)\n",
            "Requirement already satisfied: setuptools>=41.0.0 in /usr/local/lib/python3.7/dist-packages (from tensorboard->-r ./UltraFastLaneDetection/requirements.txt (line 3)) (57.4.0)\n",
            "Requirement already satisfied: grpcio>=1.24.3 in /usr/local/lib/python3.7/dist-packages (from tensorboard->-r ./UltraFastLaneDetection/requirements.txt (line 3)) (1.42.0)\n",
            "Requirement already satisfied: urllib3!=1.25.0,!=1.25.1,<1.26,>=1.21.1 in /usr/local/lib/python3.7/dist-packages (from requests->-r ./mmclassification/requirements/optional.txt (line 2)) (1.24.3)\n",
            "Requirement already satisfied: idna<3,>=2.5 in /usr/local/lib/python3.7/dist-packages (from requests->-r ./mmclassification/requirements/optional.txt (line 2)) (2.10)\n",
            "Requirement already satisfied: certifi>=2017.4.17 in /usr/local/lib/python3.7/dist-packages (from requests->-r ./mmclassification/requirements/optional.txt (line 2)) (2021.10.8)\n",
            "Requirement already satisfied: chardet<4,>=3.0.2 in /usr/local/lib/python3.7/dist-packages (from requests->-r ./mmclassification/requirements/optional.txt (line 2)) (3.0.4)\n",
            "Requirement already satisfied: pyasn1-modules>=0.2.1 in /usr/local/lib/python3.7/dist-packages (from google-auth<3,>=1.6.3->tensorboard->-r ./UltraFastLaneDetection/requirements.txt (line 3)) (0.2.8)\n",
            "Requirement already satisfied: rsa<5,>=3.1.4 in /usr/local/lib/python3.7/dist-packages (from google-auth<3,>=1.6.3->tensorboard->-r ./UltraFastLaneDetection/requirements.txt (line 3)) (4.8)\n",
            "Requirement already satisfied: cachetools<5.0,>=2.0.0 in /usr/local/lib/python3.7/dist-packages (from google-auth<3,>=1.6.3->tensorboard->-r ./UltraFastLaneDetection/requirements.txt (line 3)) (4.2.4)\n",
            "Requirement already satisfied: requests-oauthlib>=0.7.0 in /usr/local/lib/python3.7/dist-packages (from google-auth-oauthlib<0.5,>=0.4.1->tensorboard->-r ./UltraFastLaneDetection/requirements.txt (line 3)) (1.3.0)\n",
            "Requirement already satisfied: importlib-metadata>=4.4 in /usr/local/lib/python3.7/dist-packages (from markdown>=2.6.8->tensorboard->-r ./UltraFastLaneDetection/requirements.txt (line 3)) (4.8.2)\n",
            "Requirement already satisfied: zipp>=0.5 in /usr/local/lib/python3.7/dist-packages (from importlib-metadata>=4.4->markdown>=2.6.8->tensorboard->-r ./UltraFastLaneDetection/requirements.txt (line 3)) (3.6.0)\n",
            "Requirement already satisfied: pyasn1<0.5.0,>=0.4.6 in /usr/local/lib/python3.7/dist-packages (from pyasn1-modules>=0.2.1->google-auth<3,>=1.6.3->tensorboard->-r ./UltraFastLaneDetection/requirements.txt (line 3)) (0.4.8)\n",
            "Requirement already satisfied: oauthlib>=3.0.0 in /usr/local/lib/python3.7/dist-packages (from requests-oauthlib>=0.7.0->google-auth-oauthlib<0.5,>=0.4.1->tensorboard->-r ./UltraFastLaneDetection/requirements.txt (line 3)) (3.1.1)\n",
            "Requirement already satisfied: coverage in /usr/local/lib/python3.7/dist-packages (from codecov->-r ./mmclassification/requirements/tests.txt (line 1)) (3.7.1)\n",
            "Collecting flake8\n",
            "  Downloading flake8-4.0.0-py2.py3-none-any.whl (64 kB)\n",
            "\u001b[K     |████████████████████████████████| 64 kB 2.0 MB/s \n",
            "\u001b[?25h  Downloading flake8-3.9.2-py2.py3-none-any.whl (73 kB)\n",
            "\u001b[K     |████████████████████████████████| 73 kB 1.6 MB/s \n",
            "\u001b[?25hCollecting pyflakes<2.4.0,>=2.3.0\n",
            "  Downloading pyflakes-2.3.1-py2.py3-none-any.whl (68 kB)\n",
            "\u001b[K     |████████████████████████████████| 68 kB 6.3 MB/s \n",
            "\u001b[?25hCollecting mccabe<0.7.0,>=0.6.0\n",
            "  Downloading mccabe-0.6.1-py2.py3-none-any.whl (8.6 kB)\n",
            "Collecting pycodestyle<2.8.0,>=2.7.0\n",
            "  Downloading pycodestyle-2.7.0-py2.py3-none-any.whl (41 kB)\n",
            "\u001b[K     |████████████████████████████████| 41 kB 579 kB/s \n",
            "\u001b[?25hRequirement already satisfied: tabulate in /usr/local/lib/python3.7/dist-packages (from interrogate->-r ./mmclassification/requirements/tests.txt (line 3)) (0.8.9)\n",
            "Collecting colorama\n",
            "  Downloading colorama-0.4.4-py2.py3-none-any.whl (16 kB)\n",
            "Requirement already satisfied: click>=7.1 in /usr/local/lib/python3.7/dist-packages (from interrogate->-r ./mmclassification/requirements/tests.txt (line 3)) (7.1.2)\n",
            "Requirement already satisfied: attrs in /usr/local/lib/python3.7/dist-packages (from interrogate->-r ./mmclassification/requirements/tests.txt (line 3)) (21.2.0)\n",
            "Requirement already satisfied: py in /usr/local/lib/python3.7/dist-packages (from interrogate->-r ./mmclassification/requirements/tests.txt (line 3)) (1.11.0)\n",
            "Requirement already satisfied: toml in /usr/local/lib/python3.7/dist-packages (from interrogate->-r ./mmclassification/requirements/tests.txt (line 3)) (0.10.2)\n",
            "Requirement already satisfied: pycocotools in /usr/local/lib/python3.7/dist-packages (from mmdet->-r ./mmclassification/requirements/tests.txt (line 5)) (2.0.3)\n",
            "Collecting terminaltables\n",
            "  Downloading terminaltables-3.1.10-py2.py3-none-any.whl (15 kB)\n",
            "Requirement already satisfied: more-itertools>=4.0.0 in /usr/local/lib/python3.7/dist-packages (from pytest->-r ./mmclassification/requirements/tests.txt (line 6)) (8.12.0)\n",
            "Requirement already satisfied: atomicwrites>=1.0 in /usr/local/lib/python3.7/dist-packages (from pytest->-r ./mmclassification/requirements/tests.txt (line 6)) (1.4.0)\n",
            "Requirement already satisfied: pluggy<0.8,>=0.5 in /usr/local/lib/python3.7/dist-packages (from pytest->-r ./mmclassification/requirements/tests.txt (line 6)) (0.7.1)\n",
            "Requirement already satisfied: cython>=0.27.3 in /usr/local/lib/python3.7/dist-packages (from pycocotools->mmdet->-r ./mmclassification/requirements/tests.txt (line 5)) (0.29.24)\n",
            "Skipping wheel build for albumentations, due to binaries being disabled for it.\n",
            "Building wheels for collected packages: mmcv\n",
            "  Building wheel for mmcv (setup.py) ... \u001b[?25l\u001b[?25hdone\n",
            "  Created wheel for mmcv: filename=mmcv-1.4.0-py2.py3-none-any.whl size=596725 sha256=45992bff20022bd44b79463face1182aee5399de12e37407bfa3f1393b33432c\n",
            "  Stored in directory: /root/.cache/pip/wheels/6e/b8/45/6b876315baf46f8b961262be222f42bcf71cc1d1b7a05d6136\n",
            "Successfully built mmcv\n",
            "Installing collected packages: opencv-python-headless, yapf, terminaltables, qudida, pyflakes, pycodestyle, mccabe, colorama, addict, xdoctest, pathspec, mmdet, mmcv, isort, interrogate, flake8, codecov, albumentations\n",
            "  Attempting uninstall: albumentations\n",
            "    Found existing installation: albumentations 0.1.12\n",
            "    Uninstalling albumentations-0.1.12:\n",
            "      Successfully uninstalled albumentations-0.1.12\n",
            "    Running setup.py install for albumentations ... \u001b[?25l\u001b[?25hdone\n",
            "Successfully installed addict-2.4.0 albumentations-1.1.0 codecov-2.1.12 colorama-0.4.4 flake8-3.9.2 interrogate-1.5.0 isort-4.3.21 mccabe-0.6.1 mmcv-1.4.0 mmdet-2.19.0 opencv-python-headless-4.5.4.60 pathspec-0.9.0 pycodestyle-2.7.0 pyflakes-2.3.1 qudida-0.0.4 terminaltables-3.1.10 xdoctest-0.15.10 yapf-0.31.0\n"
          ]
        }
      ]
    },
    {
      "cell_type": "markdown",
      "source": [
        "Link the data and the checkpoints' directories"
      ],
      "metadata": {
        "id": "dIYfTmI7dSCi"
      }
    },
    {
      "cell_type": "code",
      "source": [
        "!ln -s $FINAL_PROJECT/data/tusimple_old ../tusimple\n",
        "!ln -s $FINAL_PROJECT/checkpoints ../checkpoints"
      ],
      "metadata": {
        "id": "EYv2GiS__jkL"
      },
      "execution_count": 8,
      "outputs": []
    },
    {
      "cell_type": "markdown",
      "source": [
        "Train the model"
      ],
      "metadata": {
        "id": "Jee2ogVWe7NA"
      }
    },
    {
      "cell_type": "code",
      "source": [
        "!python UltraFastLaneDetection/train.py UltraFastLaneDetection/configs/tusimple.py"
      ],
      "metadata": {
        "colab": {
          "base_uri": "https://localhost:8080/"
        },
        "id": "L7z8j5TubXFt",
        "outputId": "856ff6bf-435f-454f-fec9-fd14e42d8f76"
      },
      "execution_count": 11,
      "outputs": [
        {
          "output_type": "stream",
          "name": "stdout",
          "text": [
            "/usr/local/lib/python3.7/dist-packages/mmcv/cnn/bricks/transformer.py:28: UserWarning: Fail to import ``MultiScaleDeformableAttention`` from ``mmcv.ops.multi_scale_deform_attn``, You should install ``mmcv-full`` if you need this module. \n",
            "  warnings.warn('Fail to import ``MultiScaleDeformableAttention`` from '\n",
            "[2021/12/12 12:29:44] start training...\n",
            "Config (path: UltraFastLaneDetection/configs/tusimple.py): {'dataset': 'Tusimple', 'data_root': '../tusimple/', 'epoch': 100, 'batch_size': 32, 'optimizer': 'Adam', 'learning_rate': 0.0004, 'weight_decay': 0.0001, 'momentum': 0.9, 'scheduler': 'cos', 'gamma': 0.1, 'warmup': 'linear', 'warmup_iters': 100, 'backbone': '26', 'griding_num': 100, 'use_aux': True, 'sim_loss_w': 1.0, 'shp_loss_w': 0.0, 'note': '', 'log_path': '../checkpoints/tusimple/', 'finetune': None, 'resume': None, 'test_model': None, 'test_work_dir': None, 'num_lanes': 4}\n",
            "/usr/local/lib/python3.7/dist-packages/torch/utils/data/dataloader.py:481: UserWarning: This DataLoader will create 4 worker processes in total. Our suggested max number of worker in current system is 2, which is smaller than what this DataLoader is going to create. Please be aware that excessive worker creation might get DataLoader running slow or even freeze, lower the worker number to avoid potential slowness/freeze if necessary.\n",
            "  cpuset_checked))\n",
            "Traceback (most recent call last):\n",
            "  File \"UltraFastLaneDetection/train.py\", line 127, in <module>\n",
            "    net = parsingNet(pretrained = True, backbone=cfg.backbone,cls_dim = (cfg.griding_num+1,cls_num_per_lane, cfg.num_lanes),use_aux=cfg.use_aux).cuda()\n",
            "  File \"/content/AML-Final_Project/code/UltraFastLaneDetection/model/model.py\", line 40, in __init__\n",
            "    self.model = RedNetInvolution(int(backbone), self.pretrained, self.finetune, self.checkpoint_name)\n",
            "  File \"/content/AML-Final_Project/code/UltraFastLaneDetection/model/backbone.py\", line 16, in __init__\n",
            "    self.conv1 = model.conv1\n",
            "  File \"/usr/local/lib/python3.7/dist-packages/torch/nn/modules/module.py\", line 1178, in __getattr__\n",
            "    type(self).__name__, name))\n",
            "AttributeError: 'RedNet' object has no attribute 'conv1'\n"
          ]
        }
      ]
    },
    {
      "cell_type": "markdown",
      "source": [
        "## Code to check RedNetInvolution (TO BE DELETED AT THE END)"
      ],
      "metadata": {
        "id": "Nj5GhTFHZnnZ"
      }
    },
    {
      "cell_type": "code",
      "source": [
        "from functions import get_RedNetInvolution\n",
        "\n",
        "depth = 26\n",
        "pretrained = True\n",
        "finetune = False\n",
        "checkpoint_name = '/content/drive/MyDrive/University/Second_year/AML/AML-Final_Project/checkpoints RedNet/rednet26-4948f75f.pth'\n",
        "model = get_RedNetInvolution(depth, pretrained, finetune, checkpoint_name)"
      ],
      "metadata": {
        "colab": {
          "base_uri": "https://localhost:8080/"
        },
        "id": "60Dzy23SJYfg",
        "outputId": "3a81d8ca-9794-4bad-ccf5-0d7c70aef191"
      },
      "execution_count": 3,
      "outputs": [
        {
          "output_type": "stream",
          "name": "stderr",
          "text": [
            "/usr/local/lib/python3.7/dist-packages/mmcv/cnn/bricks/transformer.py:28: UserWarning: Fail to import ``MultiScaleDeformableAttention`` from ``mmcv.ops.multi_scale_deform_attn``, You should install ``mmcv-full`` if you need this module. \n",
            "  warnings.warn('Fail to import ``MultiScaleDeformableAttention`` from '\n"
          ]
        }
      ]
    },
    {
      "cell_type": "code",
      "source": [
        "print(model)"
      ],
      "metadata": {
        "colab": {
          "base_uri": "https://localhost:8080/"
        },
        "id": "EOWT-yB6PX3K",
        "outputId": "f9e61cde-63de-4c9b-86a9-668d871cbf84"
      },
      "execution_count": 4,
      "outputs": [
        {
          "output_type": "stream",
          "name": "stdout",
          "text": [
            "RedNet(\n",
            "  (stem): Sequential(\n",
            "    (0): ConvModule(\n",
            "      (conv): Conv2d(3, 32, kernel_size=(3, 3), stride=(2, 2), padding=(1, 1), bias=False)\n",
            "      (bn): BatchNorm2d(32, eps=1e-05, momentum=0.1, affine=True, track_running_stats=True)\n",
            "      (activate): ReLU(inplace=True)\n",
            "    )\n",
            "    (1): involution(\n",
            "      (conv1): ConvModule(\n",
            "        (conv): Conv2d(32, 8, kernel_size=(1, 1), stride=(1, 1), bias=False)\n",
            "        (bn): BatchNorm2d(8, eps=1e-05, momentum=0.1, affine=True, track_running_stats=True)\n",
            "        (activate): ReLU(inplace=True)\n",
            "      )\n",
            "      (conv2): ConvModule(\n",
            "        (conv): Conv2d(8, 18, kernel_size=(1, 1), stride=(1, 1))\n",
            "      )\n",
            "    )\n",
            "    (2): BatchNorm2d(32, eps=1e-05, momentum=0.1, affine=True, track_running_stats=True)\n",
            "    (3): ReLU(inplace=True)\n",
            "    (4): ConvModule(\n",
            "      (conv): Conv2d(32, 64, kernel_size=(3, 3), stride=(1, 1), padding=(1, 1), bias=False)\n",
            "      (bn): BatchNorm2d(64, eps=1e-05, momentum=0.1, affine=True, track_running_stats=True)\n",
            "      (activate): ReLU(inplace=True)\n",
            "    )\n",
            "  )\n",
            "  (maxpool): MaxPool2d(kernel_size=3, stride=2, padding=1, dilation=1, ceil_mode=False)\n",
            "  (layer1): ResLayer(\n",
            "    (0): Bottleneck(\n",
            "      (conv1): Conv2d(64, 64, kernel_size=(1, 1), stride=(1, 1), bias=False)\n",
            "      (bn1): BatchNorm2d(64, eps=1e-05, momentum=0.1, affine=True, track_running_stats=True)\n",
            "      (conv2): involution(\n",
            "        (conv1): ConvModule(\n",
            "          (conv): Conv2d(64, 16, kernel_size=(1, 1), stride=(1, 1), bias=False)\n",
            "          (bn): BatchNorm2d(16, eps=1e-05, momentum=0.1, affine=True, track_running_stats=True)\n",
            "          (activate): ReLU(inplace=True)\n",
            "        )\n",
            "        (conv2): ConvModule(\n",
            "          (conv): Conv2d(16, 196, kernel_size=(1, 1), stride=(1, 1))\n",
            "        )\n",
            "      )\n",
            "      (bn2): BatchNorm2d(64, eps=1e-05, momentum=0.1, affine=True, track_running_stats=True)\n",
            "      (conv3): Conv2d(64, 256, kernel_size=(1, 1), stride=(1, 1), bias=False)\n",
            "      (bn3): BatchNorm2d(256, eps=1e-05, momentum=0.1, affine=True, track_running_stats=True)\n",
            "      (relu): ReLU(inplace=True)\n",
            "      (downsample): Sequential(\n",
            "        (0): Conv2d(64, 256, kernel_size=(1, 1), stride=(1, 1), bias=False)\n",
            "        (1): BatchNorm2d(256, eps=1e-05, momentum=0.1, affine=True, track_running_stats=True)\n",
            "      )\n",
            "    )\n",
            "  )\n",
            "  (layer2): ResLayer(\n",
            "    (0): Bottleneck(\n",
            "      (conv1): Conv2d(256, 128, kernel_size=(1, 1), stride=(1, 1), bias=False)\n",
            "      (bn1): BatchNorm2d(128, eps=1e-05, momentum=0.1, affine=True, track_running_stats=True)\n",
            "      (conv2): involution(\n",
            "        (conv1): ConvModule(\n",
            "          (conv): Conv2d(128, 32, kernel_size=(1, 1), stride=(1, 1), bias=False)\n",
            "          (bn): BatchNorm2d(32, eps=1e-05, momentum=0.1, affine=True, track_running_stats=True)\n",
            "          (activate): ReLU(inplace=True)\n",
            "        )\n",
            "        (conv2): ConvModule(\n",
            "          (conv): Conv2d(32, 392, kernel_size=(1, 1), stride=(1, 1))\n",
            "        )\n",
            "        (avgpool): AvgPool2d(kernel_size=2, stride=2, padding=0)\n",
            "      )\n",
            "      (bn2): BatchNorm2d(128, eps=1e-05, momentum=0.1, affine=True, track_running_stats=True)\n",
            "      (conv3): Conv2d(128, 512, kernel_size=(1, 1), stride=(1, 1), bias=False)\n",
            "      (bn3): BatchNorm2d(512, eps=1e-05, momentum=0.1, affine=True, track_running_stats=True)\n",
            "      (relu): ReLU(inplace=True)\n",
            "      (downsample): Sequential(\n",
            "        (0): Conv2d(256, 512, kernel_size=(1, 1), stride=(2, 2), bias=False)\n",
            "        (1): BatchNorm2d(512, eps=1e-05, momentum=0.1, affine=True, track_running_stats=True)\n",
            "      )\n",
            "    )\n",
            "    (1): Bottleneck(\n",
            "      (conv1): Conv2d(512, 128, kernel_size=(1, 1), stride=(1, 1), bias=False)\n",
            "      (bn1): BatchNorm2d(128, eps=1e-05, momentum=0.1, affine=True, track_running_stats=True)\n",
            "      (conv2): involution(\n",
            "        (conv1): ConvModule(\n",
            "          (conv): Conv2d(128, 32, kernel_size=(1, 1), stride=(1, 1), bias=False)\n",
            "          (bn): BatchNorm2d(32, eps=1e-05, momentum=0.1, affine=True, track_running_stats=True)\n",
            "          (activate): ReLU(inplace=True)\n",
            "        )\n",
            "        (conv2): ConvModule(\n",
            "          (conv): Conv2d(32, 392, kernel_size=(1, 1), stride=(1, 1))\n",
            "        )\n",
            "      )\n",
            "      (bn2): BatchNorm2d(128, eps=1e-05, momentum=0.1, affine=True, track_running_stats=True)\n",
            "      (conv3): Conv2d(128, 512, kernel_size=(1, 1), stride=(1, 1), bias=False)\n",
            "      (bn3): BatchNorm2d(512, eps=1e-05, momentum=0.1, affine=True, track_running_stats=True)\n",
            "      (relu): ReLU(inplace=True)\n",
            "    )\n",
            "  )\n",
            "  (layer3): ResLayer(\n",
            "    (0): Bottleneck(\n",
            "      (conv1): Conv2d(512, 256, kernel_size=(1, 1), stride=(1, 1), bias=False)\n",
            "      (bn1): BatchNorm2d(256, eps=1e-05, momentum=0.1, affine=True, track_running_stats=True)\n",
            "      (conv2): involution(\n",
            "        (conv1): ConvModule(\n",
            "          (conv): Conv2d(256, 64, kernel_size=(1, 1), stride=(1, 1), bias=False)\n",
            "          (bn): BatchNorm2d(64, eps=1e-05, momentum=0.1, affine=True, track_running_stats=True)\n",
            "          (activate): ReLU(inplace=True)\n",
            "        )\n",
            "        (conv2): ConvModule(\n",
            "          (conv): Conv2d(64, 784, kernel_size=(1, 1), stride=(1, 1))\n",
            "        )\n",
            "        (avgpool): AvgPool2d(kernel_size=2, stride=2, padding=0)\n",
            "      )\n",
            "      (bn2): BatchNorm2d(256, eps=1e-05, momentum=0.1, affine=True, track_running_stats=True)\n",
            "      (conv3): Conv2d(256, 1024, kernel_size=(1, 1), stride=(1, 1), bias=False)\n",
            "      (bn3): BatchNorm2d(1024, eps=1e-05, momentum=0.1, affine=True, track_running_stats=True)\n",
            "      (relu): ReLU(inplace=True)\n",
            "      (downsample): Sequential(\n",
            "        (0): Conv2d(512, 1024, kernel_size=(1, 1), stride=(2, 2), bias=False)\n",
            "        (1): BatchNorm2d(1024, eps=1e-05, momentum=0.1, affine=True, track_running_stats=True)\n",
            "      )\n",
            "    )\n",
            "    (1): Bottleneck(\n",
            "      (conv1): Conv2d(1024, 256, kernel_size=(1, 1), stride=(1, 1), bias=False)\n",
            "      (bn1): BatchNorm2d(256, eps=1e-05, momentum=0.1, affine=True, track_running_stats=True)\n",
            "      (conv2): involution(\n",
            "        (conv1): ConvModule(\n",
            "          (conv): Conv2d(256, 64, kernel_size=(1, 1), stride=(1, 1), bias=False)\n",
            "          (bn): BatchNorm2d(64, eps=1e-05, momentum=0.1, affine=True, track_running_stats=True)\n",
            "          (activate): ReLU(inplace=True)\n",
            "        )\n",
            "        (conv2): ConvModule(\n",
            "          (conv): Conv2d(64, 784, kernel_size=(1, 1), stride=(1, 1))\n",
            "        )\n",
            "      )\n",
            "      (bn2): BatchNorm2d(256, eps=1e-05, momentum=0.1, affine=True, track_running_stats=True)\n",
            "      (conv3): Conv2d(256, 1024, kernel_size=(1, 1), stride=(1, 1), bias=False)\n",
            "      (bn3): BatchNorm2d(1024, eps=1e-05, momentum=0.1, affine=True, track_running_stats=True)\n",
            "      (relu): ReLU(inplace=True)\n",
            "    )\n",
            "    (2): Bottleneck(\n",
            "      (conv1): Conv2d(1024, 256, kernel_size=(1, 1), stride=(1, 1), bias=False)\n",
            "      (bn1): BatchNorm2d(256, eps=1e-05, momentum=0.1, affine=True, track_running_stats=True)\n",
            "      (conv2): involution(\n",
            "        (conv1): ConvModule(\n",
            "          (conv): Conv2d(256, 64, kernel_size=(1, 1), stride=(1, 1), bias=False)\n",
            "          (bn): BatchNorm2d(64, eps=1e-05, momentum=0.1, affine=True, track_running_stats=True)\n",
            "          (activate): ReLU(inplace=True)\n",
            "        )\n",
            "        (conv2): ConvModule(\n",
            "          (conv): Conv2d(64, 784, kernel_size=(1, 1), stride=(1, 1))\n",
            "        )\n",
            "      )\n",
            "      (bn2): BatchNorm2d(256, eps=1e-05, momentum=0.1, affine=True, track_running_stats=True)\n",
            "      (conv3): Conv2d(256, 1024, kernel_size=(1, 1), stride=(1, 1), bias=False)\n",
            "      (bn3): BatchNorm2d(1024, eps=1e-05, momentum=0.1, affine=True, track_running_stats=True)\n",
            "      (relu): ReLU(inplace=True)\n",
            "    )\n",
            "    (3): Bottleneck(\n",
            "      (conv1): Conv2d(1024, 256, kernel_size=(1, 1), stride=(1, 1), bias=False)\n",
            "      (bn1): BatchNorm2d(256, eps=1e-05, momentum=0.1, affine=True, track_running_stats=True)\n",
            "      (conv2): involution(\n",
            "        (conv1): ConvModule(\n",
            "          (conv): Conv2d(256, 64, kernel_size=(1, 1), stride=(1, 1), bias=False)\n",
            "          (bn): BatchNorm2d(64, eps=1e-05, momentum=0.1, affine=True, track_running_stats=True)\n",
            "          (activate): ReLU(inplace=True)\n",
            "        )\n",
            "        (conv2): ConvModule(\n",
            "          (conv): Conv2d(64, 784, kernel_size=(1, 1), stride=(1, 1))\n",
            "        )\n",
            "      )\n",
            "      (bn2): BatchNorm2d(256, eps=1e-05, momentum=0.1, affine=True, track_running_stats=True)\n",
            "      (conv3): Conv2d(256, 1024, kernel_size=(1, 1), stride=(1, 1), bias=False)\n",
            "      (bn3): BatchNorm2d(1024, eps=1e-05, momentum=0.1, affine=True, track_running_stats=True)\n",
            "      (relu): ReLU(inplace=True)\n",
            "    )\n",
            "  )\n",
            "  (layer4): ResLayer(\n",
            "    (0): Bottleneck(\n",
            "      (conv1): Conv2d(1024, 512, kernel_size=(1, 1), stride=(1, 1), bias=False)\n",
            "      (bn1): BatchNorm2d(512, eps=1e-05, momentum=0.1, affine=True, track_running_stats=True)\n",
            "      (conv2): involution(\n",
            "        (conv1): ConvModule(\n",
            "          (conv): Conv2d(512, 128, kernel_size=(1, 1), stride=(1, 1), bias=False)\n",
            "          (bn): BatchNorm2d(128, eps=1e-05, momentum=0.1, affine=True, track_running_stats=True)\n",
            "          (activate): ReLU(inplace=True)\n",
            "        )\n",
            "        (conv2): ConvModule(\n",
            "          (conv): Conv2d(128, 1568, kernel_size=(1, 1), stride=(1, 1))\n",
            "        )\n",
            "        (avgpool): AvgPool2d(kernel_size=2, stride=2, padding=0)\n",
            "      )\n",
            "      (bn2): BatchNorm2d(512, eps=1e-05, momentum=0.1, affine=True, track_running_stats=True)\n",
            "      (conv3): Conv2d(512, 2048, kernel_size=(1, 1), stride=(1, 1), bias=False)\n",
            "      (bn3): BatchNorm2d(2048, eps=1e-05, momentum=0.1, affine=True, track_running_stats=True)\n",
            "      (relu): ReLU(inplace=True)\n",
            "      (downsample): Sequential(\n",
            "        (0): Conv2d(1024, 2048, kernel_size=(1, 1), stride=(2, 2), bias=False)\n",
            "        (1): BatchNorm2d(2048, eps=1e-05, momentum=0.1, affine=True, track_running_stats=True)\n",
            "      )\n",
            "    )\n",
            "  )\n",
            ")\n"
          ]
        }
      ]
    },
    {
      "cell_type": "code",
      "source": [
        ""
      ],
      "metadata": {
        "id": "nX7GZrocPxvN"
      },
      "execution_count": null,
      "outputs": []
    }
  ]
}